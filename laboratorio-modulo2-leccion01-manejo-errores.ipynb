{
 "cells": [
  {
   "cell_type": "markdown",
   "metadata": {},
   "source": [
    "\n",
    "<div style=\"text-align: center;\">\n",
    "  <img src=\"https://github.com/Hack-io-Data/Imagenes/blob/main/01-LogosHackio/logo_celeste@4x.png?raw=true\" alt=\"esquema\" />\n",
    "</div>\n"
   ]
  },
  {
   "cell_type": "markdown",
   "metadata": {},
   "source": [
    "# Laboratorio de Python: manejo de errores."
   ]
  },
  {
   "cell_type": "markdown",
   "metadata": {},
   "source": [
    "#### Ejercicio 1: División con manejo de excepciones\n",
    "\n",
    "Escribe un programa que pida al usuario dos números e intente dividirlos. Si el usuario ingresa un valor no numérico o intenta dividir por cero, maneja esas excepciones de manera adecuada. Asegúrate de mostrar un mensaje indicando si la división fue exitosa o no.\n"
   ]
  },
  {
   "cell_type": "code",
   "execution_count": 10,
   "metadata": {},
   "outputs": [
    {
     "name": "stdout",
     "output_type": "stream",
     "text": [
      "El resultado de dividir 55 entre 95 es igual a: 0.5789473684210527\n"
     ]
    }
   ],
   "source": [
    "def division_numeros(numero_uno, numero_dos):\n",
    "\n",
    "    try:\n",
    "        numero_uno = int(numero_uno)\n",
    "        numero_dos = int(numero_dos)\n",
    "        division = numero_uno / numero_dos\n",
    "        print(f\"El resultado de dividir {numero_uno} entre {numero_dos} es igual a: {division}\")\n",
    "\n",
    "    except ZeroDivisionError:\n",
    "\n",
    "        print(\"No se puede dividir entre cero\")\n",
    "\n",
    "    except ValueError:\n",
    "        \n",
    "        print(\"Has introducido un número no váliddo. Por favor inicie el programa de nuevo\")\n",
    "\n",
    "primer_numero = input(\"Introduce el primer número de la operacion: \")\n",
    "segundo_numero = input(\"Introduce el segundo número de la operacion: \")\n",
    "\n",
    "division_numeros(primer_numero, segundo_numero)"
   ]
  },
  {
   "cell_type": "markdown",
   "metadata": {},
   "source": [
    "#### Ejercicio 2: Acceso a archivos\n",
    "\n",
    "Escribe un programa que intente abrir un archivo llamado \"datos.txt\". Si el archivo no existe, captura la excepción y muestra un mensaje de error. Asegúrate de cerrar el archivo correctamente en la sección `finally`.\n"
   ]
  },
  {
   "cell_type": "code",
   "execution_count": 7,
   "metadata": {},
   "outputs": [
    {
     "name": "stdout",
     "output_type": "stream",
     "text": [
      "Este archivo se ha creado para realizar un ejercicio de manejo de errores.\n"
     ]
    }
   ],
   "source": [
    "def abrir_archivo(nombre_archivo):\n",
    "\n",
    "    try: \n",
    "        # Abrir el archivo en modo lectura\n",
    "        with open(nombre_archivo, 'r') as archivo:\n",
    "            contenido = archivo.read()\n",
    "            print(contenido)\n",
    "\n",
    "    except FileNotFoundError:\n",
    "        print(\"No se ha encontrado ningún archivo con ese nombre\")\n",
    "\n",
    "nombre_archivo_introducir = input(\"Introduce el nombre del archivo a buscar: \")\n",
    "abrir_archivo(nombre_archivo_introducir)"
   ]
  },
  {
   "cell_type": "markdown",
   "metadata": {},
   "source": [
    "#### Ejercicio 3: Conversión de cadenas a enteros\n",
    "\n",
    "Escribe un programa que pida una lista de números separados por comas y convierta cada valor a un número entero. Maneja las excepciones para valores que no sean convertibles y asegúrate de informar si la conversión fue exitosa o no.\n"
   ]
  },
  {
   "cell_type": "code",
   "execution_count": 8,
   "metadata": {},
   "outputs": [
    {
     "name": "stdout",
     "output_type": "stream",
     "text": [
      "Has introducido un valor incorrecto en la posicion 1, con valor: b\n"
     ]
    },
    {
     "data": {
      "text/plain": [
       "'Los número correctos de la lista son: [5, 55, 95]'"
      ]
     },
     "execution_count": 8,
     "metadata": {},
     "output_type": "execute_result"
    }
   ],
   "source": [
    "def conversion_str_int(lista_numeros):\n",
    "    lista_final = []\n",
    "    for numero in lista_numeros:\n",
    "        try:\n",
    "            numero = int(numero)\n",
    "            lista_final.append(numero)\n",
    "\n",
    "        except ValueError:\n",
    "            print(f\"Has introducido un valor incorrecto en la posicion {lista_numeros.index(numero)}, con valor: {numero}\")\n",
    "\n",
    "    return f\"Los número correctos de la lista son: {lista_final}\"\n",
    "\n",
    "lista_numeros_original = [\"5\", \"b\", \"55\", \"95\"]\n",
    "conversion_str_int(lista_numeros_original)"
   ]
  },
  {
   "cell_type": "markdown",
   "metadata": {},
   "source": [
    "#### Ejercicio 4: Cálculo del promedio con manejo de excepciones\n",
    "\n",
    "Escribe una función que reciba una lista de números y calcule su promedio. Si la lista está vacía, lanza una excepción personalizada y maneja el error adecuadamente.\n"
   ]
  },
  {
   "cell_type": "code",
   "execution_count": 9,
   "metadata": {},
   "outputs": [
    {
     "data": {
      "text/plain": [
       "'La media de los números introducidos es 11.0'"
      ]
     },
     "execution_count": 9,
     "metadata": {},
     "output_type": "execute_result"
    }
   ],
   "source": [
    "def calculo_promedio(lista_numeros):\n",
    "    try:\n",
    "        suma = sum(lista_numeros)\n",
    "        n_valores = len(lista_numeros)\n",
    "        promedio = suma / n_valores\n",
    "        return f\"La media de los números introducidos es {promedio}\" \n",
    "\n",
    "    except:\n",
    "        print(\"Los valores introducidos no son correctos\")\n",
    "\n",
    "lista_numeros1 = [10, 3, 20]\n",
    "calculo_promedio(lista_numeros1)"
   ]
  },
  {
   "cell_type": "markdown",
   "metadata": {},
   "source": [
    "#### Ejercicio 5: Conversión segura de números\n",
    "\n",
    "Escribe un programa que convierta una cadena a número flotante e intente realizar una operación aritmética. Si la conversión falla, maneja la excepción y continúa con el flujo normal."
   ]
  },
  {
   "cell_type": "code",
   "execution_count": 23,
   "metadata": {},
   "outputs": [
    {
     "name": "stdout",
     "output_type": "stream",
     "text": [
      "Por favor introduce un valor válido. Ha de ser un número.\n"
     ]
    }
   ],
   "source": [
    "def potenciacion(cadena):\n",
    "    try: \n",
    "        cadena_numero = float(cadena)\n",
    "        numero_al_cuadrado = cadena_numero ** 2\n",
    "        return f\"EL valor de {cadena_numero} al cuadrado es {round(numero_al_cuadrado,2)}\"\n",
    "\n",
    "    except ValueError:\n",
    "        print(\"Por favor introduce un valor válido. Ha de ser un número.\")\n",
    "\n",
    "cadena_usuario = input(\"Introduce un número por favor\")\n",
    "potenciacion(cadena_usuario)\n"
   ]
  },
  {
   "cell_type": "markdown",
   "metadata": {},
   "source": [
    "#### Ejercicio 6: Acceso a claves en diccionarios\n",
    "\n",
    "Escribe un programa que intente acceder a una clave específica en un diccionario. Si la clave no existe, maneja la excepción `KeyError` y muestra un mensaje indicando el problema."
   ]
  },
  {
   "cell_type": "code",
   "execution_count": 36,
   "metadata": {},
   "outputs": [
    {
     "data": {
      "text/plain": [
       "'Solo hay 4 trimestres al año, melón'"
      ]
     },
     "execution_count": 36,
     "metadata": {},
     "output_type": "execute_result"
    }
   ],
   "source": [
    "def trimestre_año (trimestre):\n",
    "\n",
    "    try:\n",
    "        trimestre_elegido = trimestre[int(input(\"Indica el trimestre al que quieres acceder.\"))]\n",
    "        return f\"Has accedido al {trimestre_elegido}. Indica a continuación qué impuesto desea revisar.\"\n",
    "\n",
    "    except KeyError:\n",
    "        return f\"Solo hay 4 trimestres al año, melón\"\n",
    "    \n",
    "trimestres_año = {1:\"Primer Trimeste\", 2:\"Segundo Trimestre\", 3:\"Tercer Trimestre\", 4:\"Cuarto Trimestre\"}\n",
    "trimestre_año(trimestres_año)"
   ]
  },
  {
   "cell_type": "markdown",
   "metadata": {},
   "source": [
    "#### Ejercicio 7: Verificación de entradas de usuario\n",
    "\n",
    "Escribe un programa que pida al usuario que introduzca su edad. Si el usuario ingresa un valor no numérico o un valor fuera del rango esperado (por ejemplo, menor que 0 o mayor que 120), maneja las excepciones adecuadamente."
   ]
  },
  {
   "cell_type": "code",
   "execution_count": null,
   "metadata": {},
   "outputs": [
    {
     "name": "stdout",
     "output_type": "stream",
     "text": [
      "Edad no valida, o no has nacido o estás muerto y te quiere suplantar la identidad o no sabes escribir\n"
     ]
    }
   ],
   "source": [
    "def edad_usuario(edad):\n",
    "    try:\n",
    "        edad_numero = int(edad)\n",
    "\n",
    "        if edad_numero > 0 and edad_numero < 120:\n",
    "            print(f\"Tienes {edad_numero} años\")\n",
    "        else: \n",
    "            print(\"Edad no valida, o no has nacido o estás muerto y te quiere suplantar la identidad o no sabes escribir\")\n",
    "        \n",
    "    except ValueError:\n",
    "        print(\"Has escrito un valor no compatible, vuelve a probar\")\n",
    "\n",
    "usuario_introducir_edad = input(\"Introduce tu edad: \")\n",
    "edad_usuario(usuario_introducir_edad)\n"
   ]
  },
  {
   "cell_type": "markdown",
   "metadata": {},
   "source": [
    "#### Ejercicio 8: Extracción de valores de una lista\n",
    "\n",
    "Escribe una función que intente acceder a un índice específico en una lista. Si el índice está fuera del rango, maneja la excepción `IndexError` y muestra un mensaje adecuado.\n"
   ]
  },
  {
   "cell_type": "code",
   "execution_count": 9,
   "metadata": {},
   "outputs": [
    {
     "data": {
      "text/plain": [
       "'No hay ese numero de items en nuestra lista'"
      ]
     },
     "execution_count": 9,
     "metadata": {},
     "output_type": "execute_result"
    }
   ],
   "source": [
    "def que_comprar(lista_compra,indice):\n",
    "    \n",
    "    try:\n",
    "        elemento = lista_compra[indice]\n",
    "        return f\"Hay que comprar: {elemento}\"\n",
    "    \n",
    "    except IndexError:\n",
    "        \n",
    "        return f\"No hay ese numero de items en nuestra lista\"\n",
    "\n",
    "\n",
    "cosas_comprar = [\"arroz\", \"leche\", \"café\", \"huevos\"]\n",
    "que_comprar(cosas_comprar, 8)\n",
    "\n"
   ]
  }
 ],
 "metadata": {
  "kernelspec": {
   "display_name": "Python 3",
   "language": "python",
   "name": "python3"
  },
  "language_info": {
   "codemirror_mode": {
    "name": "ipython",
    "version": 3
   },
   "file_extension": ".py",
   "mimetype": "text/x-python",
   "name": "python",
   "nbconvert_exporter": "python",
   "pygments_lexer": "ipython3",
   "version": "3.12.4"
  }
 },
 "nbformat": 4,
 "nbformat_minor": 2
}
