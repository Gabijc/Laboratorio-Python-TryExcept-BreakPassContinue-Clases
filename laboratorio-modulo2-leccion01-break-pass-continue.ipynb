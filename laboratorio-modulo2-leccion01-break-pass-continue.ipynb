{
 "cells": [
  {
   "cell_type": "markdown",
   "metadata": {},
   "source": [
    "\n",
    "<div style=\"text-align: center;\">\n",
    "  <img src=\"https://github.com/Hack-io-Data/Imagenes/blob/main/01-LogosHackio/logo_celeste@4x.png?raw=true\" alt=\"esquema\" />\n",
    "</div>\n"
   ]
  },
  {
   "cell_type": "markdown",
   "metadata": {},
   "source": [
    "## Laboratorio de Python: break(), pass(), continue()"
   ]
  },
  {
   "cell_type": "markdown",
   "metadata": {},
   "source": [
    "#### Ejercicio 1: Validación de datos numéricos. \n",
    "\n",
    "Escribe un bucle que lea una lista de números y detenga la ejecución si encuentra un valor negativo. Muestra un mensaje indicando el número negativo encontrado.\n"
   ]
  },
  {
   "cell_type": "code",
   "execution_count": 2,
   "metadata": {},
   "outputs": [
    {
     "name": "stdout",
     "output_type": "stream",
     "text": [
      "No se han encontrado números negativos en la lista\n",
      "No se han encontrado números negativos en la lista\n",
      "No se han encontrado números negativos en la lista\n",
      "No se han encontrado números negativos en la lista\n"
     ]
    }
   ],
   "source": [
    "def validacion_numeros_negativos(lista_numeros):\n",
    "    \n",
    "    for numero in lista_numeros:\n",
    "        if numero < 0:\n",
    "            print(f\"Se ha encontrado un número negativo con valor {numero}\")\n",
    "            break\n",
    "        else:\n",
    "            print(\"No se han encontrado números negativos en la lista\")\n",
    "\n",
    "lista = [1, 2, 5, 3]\n",
    "validacion_numeros_negativos(lista)"
   ]
  },
  {
   "cell_type": "markdown",
   "metadata": {},
   "source": [
    "#### Ejercicio 2: Filtrado de datos\n",
    "\n",
    "Escribe un bucle que imprima los números de una lista, pero que omita los números pares.\n"
   ]
  },
  {
   "cell_type": "code",
   "execution_count": 6,
   "metadata": {},
   "outputs": [
    {
     "data": {
      "text/plain": [
       "'Los numeros no pares de la lista son [1, 3, 5]'"
      ]
     },
     "execution_count": 6,
     "metadata": {},
     "output_type": "execute_result"
    }
   ],
   "source": [
    "def filtrado_datos(lista_datos):\n",
    "\n",
    "    lista_buena = []\n",
    "\n",
    "    for numero in lista_datos:\n",
    "        if numero % 2 == 0:\n",
    "            continue\n",
    "        else:\n",
    "            lista_buena.append(numero)\n",
    "            \n",
    "    return f\"Los numeros no pares de la lista son {lista_buena}\"\n",
    "\n",
    "datos = [1, 2, 3, 4, 10, 5]\n",
    "filtrado_datos(datos)"
   ]
  },
  {
   "cell_type": "markdown",
   "metadata": {},
   "source": [
    "#### Ejercicio 3: Búsqueda de un valor\n",
    "\n",
    "Escribe un programa que busque un valor específico en una lista y detenga la búsqueda cuando lo encuentre. Si se encuentra, muestra un mensaje.\n"
   ]
  },
  {
   "cell_type": "code",
   "execution_count": 19,
   "metadata": {},
   "outputs": [
    {
     "name": "stdout",
     "output_type": "stream",
     "text": [
      "Ana\n",
      "Se ha encontrado el nombre buscado: Lola\n"
     ]
    }
   ],
   "source": [
    "def busqueda_valor(lista_nombres):\n",
    "\n",
    "    definir_nombre = input(\"Introduce un nombre por favor\")\n",
    "\n",
    "    for nombre in lista_nombres:\n",
    "        if nombre == definir_nombre:\n",
    "            print(f\"Se ha encontrado el nombre buscado: {nombre}\")\n",
    "            break\n",
    "        else:\n",
    "            print(nombre)\n",
    "\n",
    "nombres = [\"Ana\", \"Lola\", \"Pablo\"]\n",
    "busqueda_valor(nombres)"
   ]
  },
  {
   "cell_type": "markdown",
   "metadata": {},
   "source": [
    "#### Ejercicio 4: Estructura de código incompleto\n",
    "\n",
    "Define una función que aún no tenga lógica implementada, pero que se pueda ejecutar sin errores utilizando `pass`."
   ]
  },
  {
   "cell_type": "code",
   "execution_count": 20,
   "metadata": {},
   "outputs": [
    {
     "name": "stdout",
     "output_type": "stream",
     "text": [
      "Buenos días Ana\n",
      "Buenos días Lola\n",
      "Buenos días Pablo\n"
     ]
    }
   ],
   "source": [
    "def animo_socio(lista_nombres):\n",
    "    pass\n",
    "\n",
    "def nombre_socio(lista_nombres):\n",
    "    for nombre in lista_nombres:\n",
    "        print(f\"Buenos días {nombre}\")\n",
    "        animo_socio(nombres)\n",
    "\n",
    "nombre_socio(nombres)"
   ]
  },
  {
   "cell_type": "markdown",
   "metadata": {},
   "source": [
    "#### Ejercicio 5: Validación condicional\n",
    "\n",
    "Escribe un bucle que verifique una lista de nombres. Si encuentra un nombre vacío (cadena vacía), salta esa iteración y continúa con los demás nombres.\n"
   ]
  },
  {
   "cell_type": "code",
   "execution_count": 24,
   "metadata": {},
   "outputs": [
    {
     "name": "stdout",
     "output_type": "stream",
     "text": [
      "Mi amigo se llama María\n",
      "Mi amigo se llama Pedro\n",
      "Mi amigo se llama Marta\n",
      "Mi amigo se llama Luis\n"
     ]
    }
   ],
   "source": [
    "def amigos(lista_nombre_amigos):\n",
    "    \n",
    "    for nombre in lista_nombre_amigos:\n",
    "\n",
    "        if nombre == \" \" or nombre == \"\":\n",
    "            continue\n",
    "        else:\n",
    "            print(f\"Mi amigo se llama {nombre}\")\n",
    "\n",
    "lista_de_amigos = [\"María\", \"Pedro\", \"Marta\", \"\", \"Luis\"]\n",
    "\n",
    "amigos(lista_de_amigos)"
   ]
  },
  {
   "cell_type": "markdown",
   "metadata": {},
   "source": [
    "#### Ejercicio 6: Búsqueda de claves en un diccionario\n",
    "\n",
    "Escribe un programa que recorra un diccionario y detenga la búsqueda si encuentra una clave específica pasada por el usuario.\n"
   ]
  },
  {
   "cell_type": "code",
   "execution_count": 22,
   "metadata": {},
   "outputs": [
    {
     "name": "stdout",
     "output_type": "stream",
     "text": [
      "La nota de Laura es 3\n",
      "La nota de Paco es 8\n",
      "Mateo tu nota es 9\n"
     ]
    }
   ],
   "source": [
    "def busqueda_alumno(diccionario_alumnos):\n",
    "    nombre_alumno = input(\"Introduce tu nombre por favor: \")\n",
    "    for nombre in diccionario_alumnos:\n",
    "    \n",
    "        if nombre_alumno not in diccionario_alumnos:\n",
    "            #para cada clave de mi diccionario, si no está la clave, me lo indica, y sale del programa\n",
    "            print(\"El nombre no es válido\")\n",
    "            break\n",
    "    \n",
    "        elif nombre == nombre_alumno:\n",
    "            #para cada clave de mi diccionario, si mi nombre está entre las claves de mi diccionario, me lo indica, y me dice la nota de mi examen\n",
    "            print(f\"{nombre} tu nota es {diccionario_alumnos[nombre]}\")\n",
    "            break\n",
    "\n",
    "        else:\n",
    "            print(f\"La nota de {nombre} es {diccionario_alumnos[nombre]}\")\n",
    "\n",
    "nombres_notas_alumnos = {\"Laura\":3, \"Paco\":8, \"Mateo\":9, \"Pablo\":6}\n",
    "busqueda_alumno(nombres_notas_alumnos)"
   ]
  },
  {
   "cell_type": "markdown",
   "metadata": {},
   "source": [
    "#### Ejercicio 7: Bucle con múltiples excepciones\n",
    "\n",
    "Escribe un bucle que procese una lista de operaciones matemáticas, omitiendo las operaciones que intenten dividir por cero.\n"
   ]
  },
  {
   "cell_type": "code",
   "execution_count": 12,
   "metadata": {},
   "outputs": [
    {
     "name": "stdout",
     "output_type": "stream",
     "text": [
      "Los resultados de las operaciones realizadas son: \n",
      " - suma = 10 \n",
      " - resta = 10 \n",
      " - multiplicacion = 0 \n",
      " - No se puede dividir entre cero\n"
     ]
    }
   ],
   "source": [
    "def operaciones_matematicas(numero_uno, numero_dos):\n",
    "    resultados = []\n",
    "    \n",
    "    suma = numero_uno + numero_dos\n",
    "    resultados.append(suma)\n",
    "    \n",
    "    resta = numero_uno - numero_dos\n",
    "    resultados.append(resta)\n",
    "\n",
    "    multiplicacion = numero_uno * numero_dos\n",
    "    resultados.append(multiplicacion)\n",
    "    \n",
    "    if numero_dos == 0:\n",
    "        print(f\"Los resultados de las operaciones realizadas son: \\n - suma = {resultados[0]} \\n - resta = {resultados[1]} \\n - multiplicacion = {resultados[2]} \\n - No se puede dividir entre cero\")\n",
    "        pass\n",
    "\n",
    "    else:\n",
    "        division = numero_uno / numero_dos\n",
    "        resultados.append(division)\n",
    "        print(f\"Los resultados de las operaciones realizadas son: \\n - suma = {resultados[0]} \\n - resta = {resultados[1]} \\n - multiplicacion = {resultados[2]} \\n - division = {resultados[3]}\")\n",
    "\n",
    "    \n",
    "\n",
    "numero_uno = int(input(\"Introduce el primer número de la operacion: \"))\n",
    "numero_dos = int(input(\"Introduce el segundo número de la operacion: \"))\n",
    "\n",
    "operaciones_matematicas(numero_uno, numero_dos)"
   ]
  },
  {
   "cell_type": "markdown",
   "metadata": {},
   "source": [
    "#### Ejercicio 8: Búsqueda en una lista anidada\n",
    "\n",
    "Escribe un programa que recorra una lista de listas y detenga la búsqueda cuando encuentre un valor mayor a 50.\n"
   ]
  },
  {
   "cell_type": "code",
   "execution_count": 36,
   "metadata": {},
   "outputs": [
    {
     "name": "stdout",
     "output_type": "stream",
     "text": [
      "Los valores de la lista son [[3, 0, 5], [10, 30, 6]]\n"
     ]
    }
   ],
   "source": [
    "def busqueda_lista_anidada(lista_listas):\n",
    "    for i in lista_listas:\n",
    "        \n",
    "        for j in i:\n",
    "            \n",
    "            if j > 50:\n",
    "                \n",
    "                print(f\"Se ha encontrado un valor superior a 50 en nuestra lista con valor igual a: {j}.\")\n",
    "                break\n",
    "    \n",
    "    print(f\"Los valores de la lista son {lista_listas}\")\n",
    "\n",
    "\n",
    "busqueda_lista_anidada([[3,0,5], [10, 30, 6]])\n",
    "\n"
   ]
  },
  {
   "cell_type": "markdown",
   "metadata": {},
   "source": [
    "#### Ejercicio 9: Evaluación de series temporales\n",
    "\n",
    "Escribe un programa que recorra una lista de datos de series temporales y se detenga si encuentra un valor atípico (mayor a 100).\n"
   ]
  },
  {
   "cell_type": "code",
   "execution_count": 8,
   "metadata": {},
   "outputs": [
    {
     "name": "stdout",
     "output_type": "stream",
     "text": [
      "Se ha encontrado un dato atípico con valor igual a:100\n"
     ]
    },
    {
     "data": {
      "text/plain": [
       "'Los valores de la serie temporal no atípicos son [50, 20]'"
      ]
     },
     "execution_count": 8,
     "metadata": {},
     "output_type": "execute_result"
    }
   ],
   "source": [
    "def evaluacion_series_temporales(lista_series_temporales):\n",
    "\n",
    "    valores_serie_temporal = []\n",
    "\n",
    "    for valor in lista_series_temporales:\n",
    "\n",
    "        if valor < 100:\n",
    "            valores_serie_temporal.append(valor)\n",
    "\n",
    "        elif valor >= 100:\n",
    "            print(f\"Se ha encontrado un dato atípico con valor igual a:{valor}\")\n",
    "            break\n",
    "            \n",
    "    return f\"Los valores de la serie temporal no atípicos son {valores_serie_temporal}\"\n",
    "\n",
    "serie_temporal = [50, 20, 100, 40]\n",
    "evaluacion_series_temporales(serie_temporal)\n",
    "            \n",
    "        \n",
    "    "
   ]
  },
  {
   "cell_type": "markdown",
   "metadata": {},
   "source": [
    "#### Ejercicio 10: Iteración con valores faltantes\n",
    "\n",
    "Crea un bucle que recorra una lista de datos de ventas y salte los valores faltantes representados por `None`."
   ]
  },
  {
   "cell_type": "code",
   "execution_count": 14,
   "metadata": {},
   "outputs": [
    {
     "data": {
      "text/plain": [
       "'La suma de las ventas totales es 1500'"
      ]
     },
     "execution_count": 14,
     "metadata": {},
     "output_type": "execute_result"
    }
   ],
   "source": [
    "def valores_ventas(lista_ventas):\n",
    "    contador = 0\n",
    "    for valor_venta in lista_ventas:\n",
    "        \n",
    "        if valor_venta == None:\n",
    "            continue\n",
    "        \n",
    "        else:\n",
    "            contador += valor_venta\n",
    "\n",
    "    return f\"La suma de las ventas totales es {contador}\" \n",
    "\n",
    "ventas = [100, 400, None, 1000, None]\n",
    "valores_ventas(ventas)"
   ]
  },
  {
   "cell_type": "markdown",
   "metadata": {},
   "source": [
    "#### Ejercicio 11: Control de flujo en bucles anidados\n",
    "\n",
    "Escribe un bucle que recorra la matriz dada y se detenga si se encuentra un número negativo, mostrando su posición.\n",
    "\n"
   ]
  },
  {
   "cell_type": "code",
   "execution_count": null,
   "metadata": {},
   "outputs": [
    {
     "name": "stdout",
     "output_type": "stream",
     "text": [
      "No se han encontrado valores negativos en la matriz\n",
      "Se ha encontrado un número negativo en la matriz, con valor -3\n"
     ]
    }
   ],
   "source": [
    "def buscar_negativos(matriz_numeros):\n",
    "    for numero in matriz_numeros:\n",
    "        if numero < 0:\n",
    "            print(f\"Se ha encontrado un número negativo en la matriz, con valor {numero}\")\n",
    "            break\n",
    "\n",
    "    print(\"No se han encontrado valores negativos en la matriz\")        \n",
    "\n",
    "matriz_numeros_original = [1, - 3, 5, 5, 0]\n",
    "buscar_negativos(matriz_numeros_original)"
   ]
  },
  {
   "cell_type": "markdown",
   "metadata": {},
   "source": [
    "#### Ejercicio 12: Placeholder para funciones incompletas\n",
    "\n",
    "Escribe una función que tenga un bloque de control que aún no esté implementado, utilizando `pass` para que no genere errores."
   ]
  },
  {
   "cell_type": "code",
   "execution_count": null,
   "metadata": {},
   "outputs": [],
   "source": [
    "#ejercicio igual que el 9, no hacer"
   ]
  }
 ],
 "metadata": {
  "kernelspec": {
   "display_name": "Python 3",
   "language": "python",
   "name": "python3"
  },
  "language_info": {
   "codemirror_mode": {
    "name": "ipython",
    "version": 3
   },
   "file_extension": ".py",
   "mimetype": "text/x-python",
   "name": "python",
   "nbconvert_exporter": "python",
   "pygments_lexer": "ipython3",
   "version": "3.12.4"
  }
 },
 "nbformat": 4,
 "nbformat_minor": 2
}
